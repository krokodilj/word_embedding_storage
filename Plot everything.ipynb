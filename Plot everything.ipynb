{
 "cells": [
  {
   "cell_type": "code",
   "execution_count": 1,
   "metadata": {},
   "outputs": [],
   "source": [
    "import pickle\n",
    "import plotly\n",
    "import numpy"
   ]
  },
  {
   "cell_type": "code",
   "execution_count": 2,
   "metadata": {},
   "outputs": [],
   "source": [
    "# read all results\n",
    "\n",
    "# mongodb\n",
    "with open('./collected_times/mongodb-write-times.pickle', 'rb') as f:\n",
    "    mongodb_write = pickle.load(f)\n",
    "with open('./collected_times/mongodb-read-times.pickle', 'rb') as f:\n",
    "    mongodb_read = pickle.load(f)\n",
    "\n",
    "#sqlite3\n",
    "with open('./collected_times/sqlite_write_times', 'rb') as f:\n",
    "    sqlite_write = pickle.load(f)\n",
    "with open('./collected_times/sqlite_read_times', 'rb') as f:\n",
    "    sqlite_read = pickle.load(f)\n",
    "    \n",
    "# couchdb\n",
    "with open('./collected_times/couchdb-write-times.pickle', 'rb') as f:\n",
    "    couchdb_write = pickle.load(f)\n",
    "with open('./collected_times/couchdb-read-times.pickle', 'rb') as f:\n",
    "    couchdb_read = pickle.load(f)\n",
    "    \n",
    "counts = [500, 1000, 2000, 3000, 4000, 5000]"
   ]
  },
  {
   "cell_type": "code",
   "execution_count": 3,
   "metadata": {},
   "outputs": [
    {
     "data": {
      "text/html": [
       "<script>requirejs.config({paths: { 'plotly': ['https://cdn.plot.ly/plotly-latest.min']},});if(!window.Plotly) {{require(['plotly'],function(plotly) {window.Plotly=plotly;});}}</script>"
      ],
      "text/vnd.plotly.v1+html": [
       "<script>requirejs.config({paths: { 'plotly': ['https://cdn.plot.ly/plotly-latest.min']},});if(!window.Plotly) {{require(['plotly'],function(plotly) {window.Plotly=plotly;});}}</script>"
      ]
     },
     "metadata": {},
     "output_type": "display_data"
    },
    {
     "data": {
      "application/vnd.plotly.v1+json": {
       "data": [
        {
         "mode": "lines+markers",
         "name": "MongoDB",
         "type": "scatter",
         "uid": "4cf59ea2-ce77-11e9-ac26-cdc4f87c4232",
         "x": [
          500,
          1000,
          2000,
          3000,
          4000,
          5000
         ],
         "y": [
          2.5383527278900146,
          3.61647629737854,
          9.963603973388672,
          15.373699426651001,
          20.482542991638184,
          21.188393592834473
         ]
        },
        {
         "mode": "lines+markers",
         "name": "SQLite3",
         "type": "scatter",
         "uid": "4cf5a9ce-ce77-11e9-ac26-cdc4f87c4232",
         "x": [
          500,
          1000,
          2000,
          3000,
          4000,
          5000
         ],
         "y": [
          82.66536831855774,
          152.68631958961487,
          319.55579137802124,
          466.4080500602722,
          652.9224853515625,
          793.0688614845276
         ]
        },
        {
         "mode": "lines+markers",
         "name": "CouchDB",
         "type": "scatter",
         "uid": "4cf5ad20-ce77-11e9-ac26-cdc4f87c4232",
         "x": [
          500,
          1000,
          2000,
          3000,
          4000,
          5000
         ],
         "y": [
          61.31613349914551,
          119.94342994689941,
          245.87764263153076,
          380.0950605869293,
          533.9502067565918,
          687.8760335445404
         ]
        }
       ],
       "layout": {
        "title": "Write Times",
        "xaxis": {
         "title": "Embedding Count"
        },
        "yaxis": {
         "title": "Time in Seconds"
        }
       }
      },
      "text/html": [
       "<div id=\"80d2e464-dfd4-4caf-8403-c7997f25b575\" style=\"height: 525px; width: 100%;\" class=\"plotly-graph-div\"></div><script type=\"text/javascript\">require([\"plotly\"], function(Plotly) { window.PLOTLYENV=window.PLOTLYENV || {};window.PLOTLYENV.BASE_URL=\"https://plot.ly\";\n",
       "        Plotly.plot(\n",
       "            '80d2e464-dfd4-4caf-8403-c7997f25b575',\n",
       "            [{\"mode\": \"lines+markers\", \"name\": \"MongoDB\", \"x\": [500, 1000, 2000, 3000, 4000, 5000], \"y\": [2.5383527278900146, 3.61647629737854, 9.963603973388672, 15.373699426651001, 20.482542991638184, 21.188393592834473], \"type\": \"scatter\", \"uid\": \"4cf59ea2-ce77-11e9-ac26-cdc4f87c4232\"}, {\"mode\": \"lines+markers\", \"name\": \"SQLite3\", \"x\": [500, 1000, 2000, 3000, 4000, 5000], \"y\": [82.66536831855774, 152.68631958961487, 319.55579137802124, 466.4080500602722, 652.9224853515625, 793.0688614845276], \"type\": \"scatter\", \"uid\": \"4cf5a9ce-ce77-11e9-ac26-cdc4f87c4232\"}, {\"mode\": \"lines+markers\", \"name\": \"CouchDB\", \"x\": [500, 1000, 2000, 3000, 4000, 5000], \"y\": [61.31613349914551, 119.94342994689941, 245.87764263153076, 380.0950605869293, 533.9502067565918, 687.8760335445404], \"type\": \"scatter\", \"uid\": \"4cf5ad20-ce77-11e9-ac26-cdc4f87c4232\"}],\n",
       "            {\"title\": \"Write Times\", \"xaxis\": {\"title\": \"Embedding Count\"}, \"yaxis\": {\"title\": \"Time in Seconds\"}},\n",
       "            {\"showLink\": true, \"linkText\": \"Export to plot.ly\"}\n",
       "        ).then(function () {return Plotly.addFrames('80d2e464-dfd4-4caf-8403-c7997f25b575',{});}).then(function(){Plotly.animate('80d2e464-dfd4-4caf-8403-c7997f25b575');})\n",
       "        });</script>"
      ],
      "text/vnd.plotly.v1+html": [
       "<div id=\"80d2e464-dfd4-4caf-8403-c7997f25b575\" style=\"height: 525px; width: 100%;\" class=\"plotly-graph-div\"></div><script type=\"text/javascript\">require([\"plotly\"], function(Plotly) { window.PLOTLYENV=window.PLOTLYENV || {};window.PLOTLYENV.BASE_URL=\"https://plot.ly\";\n",
       "        Plotly.plot(\n",
       "            '80d2e464-dfd4-4caf-8403-c7997f25b575',\n",
       "            [{\"mode\": \"lines+markers\", \"name\": \"MongoDB\", \"x\": [500, 1000, 2000, 3000, 4000, 5000], \"y\": [2.5383527278900146, 3.61647629737854, 9.963603973388672, 15.373699426651001, 20.482542991638184, 21.188393592834473], \"type\": \"scatter\", \"uid\": \"4cf59ea2-ce77-11e9-ac26-cdc4f87c4232\"}, {\"mode\": \"lines+markers\", \"name\": \"SQLite3\", \"x\": [500, 1000, 2000, 3000, 4000, 5000], \"y\": [82.66536831855774, 152.68631958961487, 319.55579137802124, 466.4080500602722, 652.9224853515625, 793.0688614845276], \"type\": \"scatter\", \"uid\": \"4cf5a9ce-ce77-11e9-ac26-cdc4f87c4232\"}, {\"mode\": \"lines+markers\", \"name\": \"CouchDB\", \"x\": [500, 1000, 2000, 3000, 4000, 5000], \"y\": [61.31613349914551, 119.94342994689941, 245.87764263153076, 380.0950605869293, 533.9502067565918, 687.8760335445404], \"type\": \"scatter\", \"uid\": \"4cf5ad20-ce77-11e9-ac26-cdc4f87c4232\"}],\n",
       "            {\"title\": \"Write Times\", \"xaxis\": {\"title\": \"Embedding Count\"}, \"yaxis\": {\"title\": \"Time in Seconds\"}},\n",
       "            {\"showLink\": true, \"linkText\": \"Export to plot.ly\"}\n",
       "        ).then(function () {return Plotly.addFrames('80d2e464-dfd4-4caf-8403-c7997f25b575',{});}).then(function(){Plotly.animate('80d2e464-dfd4-4caf-8403-c7997f25b575');})\n",
       "        });</script>"
      ]
     },
     "metadata": {},
     "output_type": "display_data"
    }
   ],
   "source": [
    "# PLOT WRITE TIMES\n",
    "\n",
    "plotly.offline.init_notebook_mode(connected=True)\n",
    "\n",
    "mongo = plotly.graph_objs.Scatter(\n",
    "    name = \"MongoDB\",\n",
    "    y = mongodb_write,\n",
    "    x = counts,\n",
    "    mode = 'lines+markers'\n",
    ")\n",
    "sqlite = plotly.graph_objs.Scatter(\n",
    "    name = \"SQLite3\",\n",
    "    y = sqlite_write,\n",
    "    x = counts,\n",
    "    mode = 'lines+markers'\n",
    ")\n",
    "couch = plotly.graph_objs.Scatter(\n",
    "    name = \"CouchDB\",\n",
    "    y = couchdb_write,\n",
    "    x = counts,\n",
    "    mode = 'lines+markers'\n",
    ")\n",
    "\n",
    "layout = plotly.graph_objs.Layout(title=\"Write Times\",\n",
    "                yaxis=dict(title='Time in Seconds'),\n",
    "                xaxis=dict(title='Embedding Count'))\n",
    "\n",
    "data = [mongo, sqlite, couch]\n",
    "\n",
    "fig = plotly.graph_objs.Figure(data=data, layout=layout)\n",
    "plotly.offline.iplot(fig, filename='jupyter-scatter-write')"
   ]
  },
  {
   "cell_type": "code",
   "execution_count": 4,
   "metadata": {},
   "outputs": [
    {
     "data": {
      "text/html": [
       "<script>requirejs.config({paths: { 'plotly': ['https://cdn.plot.ly/plotly-latest.min']},});if(!window.Plotly) {{require(['plotly'],function(plotly) {window.Plotly=plotly;});}}</script>"
      ],
      "text/vnd.plotly.v1+html": [
       "<script>requirejs.config({paths: { 'plotly': ['https://cdn.plot.ly/plotly-latest.min']},});if(!window.Plotly) {{require(['plotly'],function(plotly) {window.Plotly=plotly;});}}</script>"
      ]
     },
     "metadata": {},
     "output_type": "display_data"
    },
    {
     "data": {
      "application/vnd.plotly.v1+json": {
       "data": [
        {
         "mode": "lines+markers",
         "name": "MongoDB",
         "type": "scatter",
         "uid": "4d22bd74-ce77-11e9-ac26-cdc4f87c4232",
         "x": [
          500,
          1000,
          2000,
          3000,
          4000,
          5000
         ],
         "y": [
          2.4644155502319336,
          5.6834492683410645,
          14.028816223144531,
          23.69891119003296,
          33.263861417770386,
          55.77835512161255
         ]
        },
        {
         "mode": "lines+markers",
         "name": "SQLite3",
         "type": "scatter",
         "uid": "4d22c288-ce77-11e9-ac26-cdc4f87c4232",
         "x": [
          500,
          1000,
          2000,
          3000,
          4000,
          5000
         ],
         "y": [
          3.2957890033721924,
          11.014304637908936,
          35.75472140312195,
          74.76158428192139,
          136.50371623039246,
          210.4696958065033
         ]
        },
        {
         "mode": "lines+markers",
         "name": "CouchDB",
         "type": "scatter",
         "uid": "4d22c526-ce77-11e9-ac26-cdc4f87c4232",
         "x": [
          500,
          1000,
          2000,
          3000,
          4000,
          5000
         ],
         "y": [
          4.3286683559417725,
          8.946988344192505,
          18.223485946655273,
          27.972745418548584,
          36.99389052391052,
          98.14250016212463
         ]
        }
       ],
       "layout": {
        "title": "Read Times",
        "xaxis": {
         "title": "Embedding Count"
        },
        "yaxis": {
         "title": "Time in Seconds"
        }
       }
      },
      "text/html": [
       "<div id=\"5f21e6ee-e940-49a4-b7f7-c38bf21cbfd2\" style=\"height: 525px; width: 100%;\" class=\"plotly-graph-div\"></div><script type=\"text/javascript\">require([\"plotly\"], function(Plotly) { window.PLOTLYENV=window.PLOTLYENV || {};window.PLOTLYENV.BASE_URL=\"https://plot.ly\";\n",
       "        Plotly.plot(\n",
       "            '5f21e6ee-e940-49a4-b7f7-c38bf21cbfd2',\n",
       "            [{\"mode\": \"lines+markers\", \"name\": \"MongoDB\", \"x\": [500, 1000, 2000, 3000, 4000, 5000], \"y\": [2.4644155502319336, 5.6834492683410645, 14.028816223144531, 23.69891119003296, 33.263861417770386, 55.77835512161255], \"type\": \"scatter\", \"uid\": \"4d22bd74-ce77-11e9-ac26-cdc4f87c4232\"}, {\"mode\": \"lines+markers\", \"name\": \"SQLite3\", \"x\": [500, 1000, 2000, 3000, 4000, 5000], \"y\": [3.2957890033721924, 11.014304637908936, 35.75472140312195, 74.76158428192139, 136.50371623039246, 210.4696958065033], \"type\": \"scatter\", \"uid\": \"4d22c288-ce77-11e9-ac26-cdc4f87c4232\"}, {\"mode\": \"lines+markers\", \"name\": \"CouchDB\", \"x\": [500, 1000, 2000, 3000, 4000, 5000], \"y\": [4.3286683559417725, 8.946988344192505, 18.223485946655273, 27.972745418548584, 36.99389052391052, 98.14250016212463], \"type\": \"scatter\", \"uid\": \"4d22c526-ce77-11e9-ac26-cdc4f87c4232\"}],\n",
       "            {\"title\": \"Read Times\", \"xaxis\": {\"title\": \"Embedding Count\"}, \"yaxis\": {\"title\": \"Time in Seconds\"}},\n",
       "            {\"showLink\": true, \"linkText\": \"Export to plot.ly\"}\n",
       "        ).then(function () {return Plotly.addFrames('5f21e6ee-e940-49a4-b7f7-c38bf21cbfd2',{});}).then(function(){Plotly.animate('5f21e6ee-e940-49a4-b7f7-c38bf21cbfd2');})\n",
       "        });</script>"
      ],
      "text/vnd.plotly.v1+html": [
       "<div id=\"5f21e6ee-e940-49a4-b7f7-c38bf21cbfd2\" style=\"height: 525px; width: 100%;\" class=\"plotly-graph-div\"></div><script type=\"text/javascript\">require([\"plotly\"], function(Plotly) { window.PLOTLYENV=window.PLOTLYENV || {};window.PLOTLYENV.BASE_URL=\"https://plot.ly\";\n",
       "        Plotly.plot(\n",
       "            '5f21e6ee-e940-49a4-b7f7-c38bf21cbfd2',\n",
       "            [{\"mode\": \"lines+markers\", \"name\": \"MongoDB\", \"x\": [500, 1000, 2000, 3000, 4000, 5000], \"y\": [2.4644155502319336, 5.6834492683410645, 14.028816223144531, 23.69891119003296, 33.263861417770386, 55.77835512161255], \"type\": \"scatter\", \"uid\": \"4d22bd74-ce77-11e9-ac26-cdc4f87c4232\"}, {\"mode\": \"lines+markers\", \"name\": \"SQLite3\", \"x\": [500, 1000, 2000, 3000, 4000, 5000], \"y\": [3.2957890033721924, 11.014304637908936, 35.75472140312195, 74.76158428192139, 136.50371623039246, 210.4696958065033], \"type\": \"scatter\", \"uid\": \"4d22c288-ce77-11e9-ac26-cdc4f87c4232\"}, {\"mode\": \"lines+markers\", \"name\": \"CouchDB\", \"x\": [500, 1000, 2000, 3000, 4000, 5000], \"y\": [4.3286683559417725, 8.946988344192505, 18.223485946655273, 27.972745418548584, 36.99389052391052, 98.14250016212463], \"type\": \"scatter\", \"uid\": \"4d22c526-ce77-11e9-ac26-cdc4f87c4232\"}],\n",
       "            {\"title\": \"Read Times\", \"xaxis\": {\"title\": \"Embedding Count\"}, \"yaxis\": {\"title\": \"Time in Seconds\"}},\n",
       "            {\"showLink\": true, \"linkText\": \"Export to plot.ly\"}\n",
       "        ).then(function () {return Plotly.addFrames('5f21e6ee-e940-49a4-b7f7-c38bf21cbfd2',{});}).then(function(){Plotly.animate('5f21e6ee-e940-49a4-b7f7-c38bf21cbfd2');})\n",
       "        });</script>"
      ]
     },
     "metadata": {},
     "output_type": "display_data"
    }
   ],
   "source": [
    "# PLOT READ TIMES\n",
    "\n",
    "plotly.offline.init_notebook_mode(connected=True)\n",
    "\n",
    "mongo = plotly.graph_objs.Scatter(\n",
    "    name = \"MongoDB\",\n",
    "    y = mongodb_read,\n",
    "    x = counts,\n",
    "    mode = 'lines+markers'\n",
    ")\n",
    "sqlite = plotly.graph_objs.Scatter(\n",
    "    name = \"SQLite3\",\n",
    "    y = sqlite_read,\n",
    "    x = counts,\n",
    "    mode = 'lines+markers'\n",
    ")\n",
    "couch = plotly.graph_objs.Scatter(\n",
    "    name = \"CouchDB\",\n",
    "    y = couchdb_read,\n",
    "    x = counts,\n",
    "    mode = 'lines+markers'\n",
    ")\n",
    "\n",
    "layout = plotly.graph_objs.Layout(title=\"Read Times\",\n",
    "                yaxis=dict(title='Time in Seconds'),\n",
    "                xaxis=dict(title='Embedding Count'))\n",
    "\n",
    "data = [mongo, sqlite, couch]\n",
    "\n",
    "fig = plotly.graph_objs.Figure(data=data, layout=layout)\n",
    "plotly.offline.iplot(fig, filename='jupyter-scatter-write')"
   ]
  },
  {
   "cell_type": "code",
   "execution_count": null,
   "metadata": {},
   "outputs": [],
   "source": []
  }
 ],
 "metadata": {
  "kernelspec": {
   "display_name": "Python 3",
   "language": "python",
   "name": "python3"
  },
  "language_info": {
   "codemirror_mode": {
    "name": "ipython",
    "version": 3
   },
   "file_extension": ".py",
   "mimetype": "text/x-python",
   "name": "python",
   "nbconvert_exporter": "python",
   "pygments_lexer": "ipython3",
   "version": "3.7.3"
  }
 },
 "nbformat": 4,
 "nbformat_minor": 2
}
