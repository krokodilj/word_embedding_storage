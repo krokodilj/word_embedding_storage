{
 "cells": [
  {
   "cell_type": "markdown",
   "metadata": {},
   "source": [
    "# Word Embeddings in LevelDB\n",
    "\n",
    "This example uses the [plyvel](https://plyvel.readthedocs.io/en/latest/) Connector within Python3 to store and retrieve various amounts of Word Embeddings.\n",
    "\n",
    "Check [install-instructions](https://computingforgeeks.com/how-to-install-leveldb-on-ubuntu-18-04-ubuntu-16-04/) to see how to install LevelDB on linux"
   ]
  },
  {
   "cell_type": "code",
   "execution_count": 3,
   "metadata": {},
   "outputs": [],
   "source": [
    "import plyvel\n",
    "import subprocess\n",
    "import shutil\n",
    "import io\n",
    "import time\n",
    "import pickle\n",
    "import numpy\n",
    "import plotly\n",
    "from tqdm import tqdm_notebook as tqdm"
   ]
  },
  {
   "cell_type": "markdown",
   "metadata": {},
   "source": [
    "# Dummy Embeddings\n",
    "\n",
    "For testing purposes we will use randomly generated numpy arrays as dummy embbeddings."
   ]
  },
  {
   "cell_type": "code",
   "execution_count": 4,
   "metadata": {},
   "outputs": [],
   "source": [
    "def embeddings(n=1000, dim=300):\n",
    "    \"\"\"\n",
    "    Yield n tuples of random numpy arrays of *dim* length indexed by *n*\n",
    "    \"\"\"\n",
    "    idx = 0\n",
    "    while idx < n:\n",
    "        yield (str(idx), numpy.random.rand(dim))\n",
    "        idx += 1"
   ]
  },
  {
   "cell_type": "markdown",
   "metadata": {},
   "source": [
    "# Conversion Functions\n",
    "\n",
    "Since we can't just save a NumPy array into the database, we will convert it into a BLOB."
   ]
  },
  {
   "cell_type": "code",
   "execution_count": 5,
   "metadata": {},
   "outputs": [],
   "source": [
    "def adapt_array(array):\n",
    "    \"\"\"\n",
    "    Using the numpy.save function to save a binary version of the array,\n",
    "    and BytesIO to catch the stream of data and convert it into a BLOB.\n",
    "    \"\"\"\n",
    "    out = io.BytesIO()\n",
    "    numpy.save(out, array)\n",
    "    out.seek(0)\n",
    "\n",
    "    return out.read()\n",
    "\n",
    "def convert_array(blob):\n",
    "    \"\"\"\n",
    "    Using BytesIO to convert the binary version of the array back into a numpy array.\n",
    "    \"\"\"\n",
    "    out = io.BytesIO(blob)\n",
    "    out.seek(0)\n",
    "\n",
    "    return numpy.load(out)"
   ]
  },
  {
   "cell_type": "code",
   "execution_count": 6,
   "metadata": {},
   "outputs": [
    {
     "ename": "IOError",
     "evalue": "b'IO error: lock ./leveldb.embedding.db/LOCK: already held by process'",
     "output_type": "error",
     "traceback": [
      "\u001b[0;31m---------------------------------------------------------------------------\u001b[0m",
      "\u001b[0;31mIOError\u001b[0m                                   Traceback (most recent call last)",
      "\u001b[0;32m<ipython-input-6-16d7217d51da>\u001b[0m in \u001b[0;36m<module>\u001b[0;34m\u001b[0m\n\u001b[0;32m----> 1\u001b[0;31m \u001b[0mconnection\u001b[0m \u001b[0;34m=\u001b[0m \u001b[0mplyvel\u001b[0m\u001b[0;34m.\u001b[0m\u001b[0mDB\u001b[0m\u001b[0;34m(\u001b[0m\u001b[0;34m'./leveldb.embedding.db'\u001b[0m\u001b[0;34m,\u001b[0m \u001b[0mcreate_if_missing\u001b[0m\u001b[0;34m=\u001b[0m\u001b[0;32mTrue\u001b[0m\u001b[0;34m)\u001b[0m\u001b[0;34m\u001b[0m\u001b[0;34m\u001b[0m\u001b[0m\n\u001b[0m",
      "\u001b[0;32mplyvel/_plyvel.pyx\u001b[0m in \u001b[0;36mplyvel._plyvel.DB.__init__\u001b[0;34m()\u001b[0m\n",
      "\u001b[0;32mplyvel/_plyvel.pyx\u001b[0m in \u001b[0;36mplyvel._plyvel.raise_for_status\u001b[0;34m()\u001b[0m\n",
      "\u001b[0;31mIOError\u001b[0m: b'IO error: lock ./leveldb.embedding.db/LOCK: already held by process'"
     ]
    }
   ],
   "source": [
    "connection = plyvel.DB('./leveldb.embedding.db', create_if_missing=True)"
   ]
  },
  {
   "cell_type": "code",
   "execution_count": null,
   "metadata": {},
   "outputs": [],
   "source": [
    "%%time\n",
    "for key, emb in embeddings():\n",
    "    arr = adapt_array(emb)\n",
    "    connection.put(key.encode(), arr)"
   ]
  },
  {
   "cell_type": "code",
   "execution_count": null,
   "metadata": {},
   "outputs": [],
   "source": [
    "%%time\n",
    "for key, _ in embeddings():\n",
    "    arr = connection.get(key.encode())\n",
    "    emb = convert_array(arr)\n",
    "    assert(type(emb) is numpy.ndarray)"
   ]
  },
  {
   "cell_type": "code",
   "execution_count": null,
   "metadata": {},
   "outputs": [],
   "source": [
    "connection.close()"
   ]
  },
  {
   "cell_type": "markdown",
   "metadata": {},
   "source": [
    "# Sample some data\n",
    "\n",
    "To test the I/O we will write and read some data from the database. This may take a while."
   ]
  },
  {
   "cell_type": "code",
   "execution_count": 9,
   "metadata": {},
   "outputs": [
    {
     "ename": "IOError",
     "evalue": "b'IO error: lock ./leveldb.embedding.db/LOCK: already held by process'",
     "output_type": "error",
     "traceback": [
      "\u001b[0;31m---------------------------------------------------------------------------\u001b[0m",
      "\u001b[0;31mIOError\u001b[0m                                   Traceback (most recent call last)",
      "\u001b[0;32m<ipython-input-9-dfcad6a8b1dd>\u001b[0m in \u001b[0;36m<module>\u001b[0;34m\u001b[0m\n\u001b[1;32m      6\u001b[0m \u001b[0;32mfor\u001b[0m \u001b[0mc\u001b[0m \u001b[0;32min\u001b[0m \u001b[0mcounts\u001b[0m\u001b[0;34m:\u001b[0m\u001b[0;34m\u001b[0m\u001b[0;34m\u001b[0m\u001b[0m\n\u001b[1;32m      7\u001b[0m     \u001b[0mshutil\u001b[0m\u001b[0;34m.\u001b[0m\u001b[0mrmtree\u001b[0m\u001b[0;34m(\u001b[0m\u001b[0;34m'./leveldb.embedding.db'\u001b[0m\u001b[0;34m,\u001b[0m \u001b[0mignore_errors\u001b[0m\u001b[0;34m=\u001b[0m\u001b[0;32mTrue\u001b[0m\u001b[0;34m)\u001b[0m\u001b[0;34m\u001b[0m\u001b[0;34m\u001b[0m\u001b[0m\n\u001b[0;32m----> 8\u001b[0;31m     \u001b[0mconnection\u001b[0m \u001b[0;34m=\u001b[0m \u001b[0mplyvel\u001b[0m\u001b[0;34m.\u001b[0m\u001b[0mDB\u001b[0m\u001b[0;34m(\u001b[0m\u001b[0;34m'./leveldb.embedding.db'\u001b[0m\u001b[0;34m,\u001b[0m \u001b[0mcreate_if_missing\u001b[0m\u001b[0;34m=\u001b[0m\u001b[0;32mTrue\u001b[0m\u001b[0;34m)\u001b[0m\u001b[0;34m\u001b[0m\u001b[0;34m\u001b[0m\u001b[0m\n\u001b[0m\u001b[1;32m      9\u001b[0m \u001b[0;34m\u001b[0m\u001b[0m\n\u001b[1;32m     10\u001b[0m     \u001b[0mstart_time_write\u001b[0m \u001b[0;34m=\u001b[0m \u001b[0mtime\u001b[0m\u001b[0;34m.\u001b[0m\u001b[0mtime\u001b[0m\u001b[0;34m(\u001b[0m\u001b[0;34m)\u001b[0m\u001b[0;34m\u001b[0m\u001b[0;34m\u001b[0m\u001b[0m\n",
      "\u001b[0;32mplyvel/_plyvel.pyx\u001b[0m in \u001b[0;36mplyvel._plyvel.DB.__init__\u001b[0;34m()\u001b[0m\n",
      "\u001b[0;32mplyvel/_plyvel.pyx\u001b[0m in \u001b[0;36mplyvel._plyvel.raise_for_status\u001b[0;34m()\u001b[0m\n",
      "\u001b[0;31mIOError\u001b[0m: b'IO error: lock ./leveldb.embedding.db/LOCK: already held by process'"
     ]
    }
   ],
   "source": [
    "write_times = []\n",
    "read_times = []\n",
    "db_sizes = []\n",
    "counts = [500, 1000, 2000, 3000, 4000, 5000, 50000, 100000, 1000000, 10000000]\n",
    "\n",
    "for c in counts:\n",
    "    shutil.rmtree('./leveldb.embedding.db', ignore_errors=True)\n",
    "    connection = plyvel.DB('./leveldb.embedding.db', create_if_missing=True)\n",
    "    \n",
    "    start_time_write = time.time()\n",
    "    for key, emb in tqdm(embeddings(c), total=c):\n",
    "        arr = adapt_array(emb)\n",
    "        connection.put(key.encode(), arr)\n",
    "    write_times.append(time.time() - start_time_write)\n",
    "    \n",
    "    start_time_read = time.time()\n",
    "    for key, _ in embeddings(c):\n",
    "        arr = connection.get(key.encode())\n",
    "        emb = convert_array(arr)\n",
    "        assert(type(emb) is numpy.ndarray)\n",
    "    read_times.append(time.time() - start_time_read)\n",
    "\n",
    "    connection.close()\n",
    "    db_sizes.append(subprocess.check_output(['du','-s', './leveldb.embedding.db']).split()[0].decode('utf-8'))\n",
    "    \n",
    "print('DONE')"
   ]
  },
  {
   "cell_type": "code",
   "execution_count": null,
   "metadata": {},
   "outputs": [],
   "source": [
    "# save times for later plotting\n",
    "\n",
    "with open('./collected_times/leveldb-write-times.pickle', 'wb') as f:\n",
    "    pickle.dump(write_times, f)\n",
    "    \n",
    "with open('./collected_times/leveldb-read-times.pickle', 'wb') as f:\n",
    "    pickle.dump(read_times, f)"
   ]
  },
  {
   "cell_type": "markdown",
   "metadata": {},
   "source": [
    "# Results"
   ]
  },
  {
   "cell_type": "code",
   "execution_count": null,
   "metadata": {
    "scrolled": true
   },
   "outputs": [],
   "source": [
    "plotly.offline.init_notebook_mode(connected=True)\n",
    "trace = plotly.graph_objs.Scatter(\n",
    "    y = write_times,\n",
    "    x = counts,\n",
    "    mode = 'lines+markers'\n",
    ")\n",
    "layout = plotly.graph_objs.Layout(title=\"LevelDB Write Times\",\n",
    "                yaxis=dict(title='Time in Seconds'),\n",
    "                xaxis=dict(title='Embedding Count'))\n",
    "data = [trace]\n",
    "fig = plotly.graph_objs.Figure(data=data, layout=layout)\n",
    "plotly.offline.iplot(fig, filename='jupyter-scatter-write')"
   ]
  },
  {
   "cell_type": "code",
   "execution_count": null,
   "metadata": {},
   "outputs": [],
   "source": [
    "plotly.offline.init_notebook_mode(connected=True)\n",
    "trace = plotly.graph_objs.Scatter(\n",
    "    y = read_times,\n",
    "    x = counts,\n",
    "    mode = 'lines+markers'\n",
    ")\n",
    "layout = plotly.graph_objs.Layout(title=\"LevelDB Read Times\",\n",
    "                yaxis=dict(title='Time in Seconds'),\n",
    "                xaxis=dict(title='Embedding Count'))\n",
    "data = [trace]\n",
    "fig = plotly.graph_objs.Figure(data=data, layout=layout)\n",
    "plotly.offline.iplot(fig, filename='jupyter-scatter-read')"
   ]
  },
  {
   "cell_type": "code",
   "execution_count": null,
   "metadata": {},
   "outputs": [],
   "source": [
    "# DB Size\n",
    "plotly.offline.init_notebook_mode(connected=True)\n",
    "trace = plotly.graph_objs.Bar(\n",
    "    x = counts,\n",
    "    y = db_sizes\n",
    ")\n",
    "layout = plotly.graph_objs.Layout(title=\"Database Size\",\n",
    "                yaxis=dict(title='Size in KB'),\n",
    "                xaxis=dict(title='Embedding Count'))\n",
    "data = [trace]\n",
    "fig = plotly.graph_objs.Figure(data=data, layout=layout)\n",
    "plotly.offline.iplot(fig, filename='jupyter-bar-size')"
   ]
  },
  {
   "cell_type": "code",
   "execution_count": null,
   "metadata": {},
   "outputs": [],
   "source": []
  }
 ],
 "metadata": {
  "kernelspec": {
   "display_name": "Python 3",
   "language": "python",
   "name": "python3"
  },
  "language_info": {
   "codemirror_mode": {
    "name": "ipython",
    "version": 3
   },
   "file_extension": ".py",
   "mimetype": "text/x-python",
   "name": "python",
   "nbconvert_exporter": "python",
   "pygments_lexer": "ipython3",
   "version": "3.6.8"
  }
 },
 "nbformat": 4,
 "nbformat_minor": 2
}
